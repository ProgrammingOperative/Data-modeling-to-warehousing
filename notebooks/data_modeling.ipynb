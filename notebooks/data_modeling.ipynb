{
 "cells": [
  {
   "attachments": {},
   "cell_type": "markdown",
   "metadata": {},
   "source": [
    "Import Necessary Packages"
   ]
  },
  {
   "cell_type": "code",
   "execution_count": 2,
   "metadata": {},
   "outputs": [],
   "source": [
    "import pandas as pd\n",
    "import psycopg2"
   ]
  },
  {
   "attachments": {},
   "cell_type": "markdown",
   "metadata": {},
   "source": [
    "Simple Diagram showing the simple star schema we will be building"
   ]
  },
  {
   "attachments": {},
   "cell_type": "markdown",
   "metadata": {},
   "source": [
    "<img src='../images/star_schema.png' alt=\"Alternative text\" />"
   ]
  },
  {
   "cell_type": "code",
   "execution_count": 3,
   "metadata": {},
   "outputs": [
    {
     "data": {
      "text/html": [
       "<div>\n",
       "<style scoped>\n",
       "    .dataframe tbody tr th:only-of-type {\n",
       "        vertical-align: middle;\n",
       "    }\n",
       "\n",
       "    .dataframe tbody tr th {\n",
       "        vertical-align: top;\n",
       "    }\n",
       "\n",
       "    .dataframe thead th {\n",
       "        text-align: right;\n",
       "    }\n",
       "</style>\n",
       "<table border=\"1\" class=\"dataframe\">\n",
       "  <thead>\n",
       "    <tr style=\"text-align: right;\">\n",
       "      <th></th>\n",
       "      <th>Unnamed: 0</th>\n",
       "      <th>date</th>\n",
       "      <th>state</th>\n",
       "      <th>county</th>\n",
       "      <th>city</th>\n",
       "      <th>ipeds_id</th>\n",
       "      <th>college</th>\n",
       "      <th>cases</th>\n",
       "      <th>cases_2021</th>\n",
       "    </tr>\n",
       "  </thead>\n",
       "  <tbody>\n",
       "    <tr>\n",
       "      <th>0</th>\n",
       "      <td>0</td>\n",
       "      <td>2021-05-26</td>\n",
       "      <td>Alabama</td>\n",
       "      <td>Madison</td>\n",
       "      <td>Huntsville</td>\n",
       "      <td>100654</td>\n",
       "      <td>Alabama A&amp;M University</td>\n",
       "      <td>41</td>\n",
       "      <td>0.0</td>\n",
       "    </tr>\n",
       "    <tr>\n",
       "      <th>1</th>\n",
       "      <td>1</td>\n",
       "      <td>2021-05-26</td>\n",
       "      <td>Alabama</td>\n",
       "      <td>Montgomery</td>\n",
       "      <td>Montgomery</td>\n",
       "      <td>100724</td>\n",
       "      <td>Alabama State University</td>\n",
       "      <td>2</td>\n",
       "      <td>0.0</td>\n",
       "    </tr>\n",
       "    <tr>\n",
       "      <th>2</th>\n",
       "      <td>2</td>\n",
       "      <td>2021-05-26</td>\n",
       "      <td>Alabama</td>\n",
       "      <td>Limestone</td>\n",
       "      <td>Athens</td>\n",
       "      <td>100812</td>\n",
       "      <td>Athens State University</td>\n",
       "      <td>45</td>\n",
       "      <td>10.0</td>\n",
       "    </tr>\n",
       "    <tr>\n",
       "      <th>3</th>\n",
       "      <td>3</td>\n",
       "      <td>2021-05-26</td>\n",
       "      <td>Alabama</td>\n",
       "      <td>Lee</td>\n",
       "      <td>Auburn</td>\n",
       "      <td>100858</td>\n",
       "      <td>Auburn University</td>\n",
       "      <td>2742</td>\n",
       "      <td>567.0</td>\n",
       "    </tr>\n",
       "    <tr>\n",
       "      <th>4</th>\n",
       "      <td>4</td>\n",
       "      <td>2021-05-26</td>\n",
       "      <td>Alabama</td>\n",
       "      <td>Montgomery</td>\n",
       "      <td>Montgomery</td>\n",
       "      <td>100830</td>\n",
       "      <td>Auburn University at Montgomery</td>\n",
       "      <td>220</td>\n",
       "      <td>80.0</td>\n",
       "    </tr>\n",
       "  </tbody>\n",
       "</table>\n",
       "</div>"
      ],
      "text/plain": [
       "   Unnamed: 0        date    state      county        city ipeds_id  \\\n",
       "0           0  2021-05-26  Alabama     Madison  Huntsville   100654   \n",
       "1           1  2021-05-26  Alabama  Montgomery  Montgomery   100724   \n",
       "2           2  2021-05-26  Alabama   Limestone      Athens   100812   \n",
       "3           3  2021-05-26  Alabama         Lee      Auburn   100858   \n",
       "4           4  2021-05-26  Alabama  Montgomery  Montgomery   100830   \n",
       "\n",
       "                           college  cases  cases_2021  \n",
       "0           Alabama A&M University     41         0.0  \n",
       "1         Alabama State University      2         0.0  \n",
       "2          Athens State University     45        10.0  \n",
       "3                Auburn University   2742       567.0  \n",
       "4  Auburn University at Montgomery    220        80.0  "
      ]
     },
     "execution_count": 3,
     "metadata": {},
     "output_type": "execute_result"
    }
   ],
   "source": [
    "df = pd.read_csv(\"../data/clean_college_data.csv\")\n",
    "df.head()"
   ]
  },
  {
   "attachments": {},
   "cell_type": "markdown",
   "metadata": {},
   "source": [
    "Determining columns for the fact and dimention table as per the schema"
   ]
  },
  {
   "cell_type": "code",
   "execution_count": 4,
   "metadata": {},
   "outputs": [],
   "source": [
    "dim_cols = ['ipeds_id', 'college', 'county', 'state']\n",
    "fact_cols = ['ipeds_id', 'cases', 'cases_2021']"
   ]
  },
  {
   "cell_type": "code",
   "execution_count": 5,
   "metadata": {},
   "outputs": [
    {
     "data": {
      "text/html": [
       "<div>\n",
       "<style scoped>\n",
       "    .dataframe tbody tr th:only-of-type {\n",
       "        vertical-align: middle;\n",
       "    }\n",
       "\n",
       "    .dataframe tbody tr th {\n",
       "        vertical-align: top;\n",
       "    }\n",
       "\n",
       "    .dataframe thead th {\n",
       "        text-align: right;\n",
       "    }\n",
       "</style>\n",
       "<table border=\"1\" class=\"dataframe\">\n",
       "  <thead>\n",
       "    <tr style=\"text-align: right;\">\n",
       "      <th></th>\n",
       "      <th>ipeds_id</th>\n",
       "      <th>college</th>\n",
       "      <th>county</th>\n",
       "      <th>state</th>\n",
       "    </tr>\n",
       "  </thead>\n",
       "  <tbody>\n",
       "    <tr>\n",
       "      <th>0</th>\n",
       "      <td>100654</td>\n",
       "      <td>Alabama A&amp;M University</td>\n",
       "      <td>Madison</td>\n",
       "      <td>Alabama</td>\n",
       "    </tr>\n",
       "    <tr>\n",
       "      <th>1</th>\n",
       "      <td>100724</td>\n",
       "      <td>Alabama State University</td>\n",
       "      <td>Montgomery</td>\n",
       "      <td>Alabama</td>\n",
       "    </tr>\n",
       "    <tr>\n",
       "      <th>2</th>\n",
       "      <td>100812</td>\n",
       "      <td>Athens State University</td>\n",
       "      <td>Limestone</td>\n",
       "      <td>Alabama</td>\n",
       "    </tr>\n",
       "    <tr>\n",
       "      <th>3</th>\n",
       "      <td>100858</td>\n",
       "      <td>Auburn University</td>\n",
       "      <td>Lee</td>\n",
       "      <td>Alabama</td>\n",
       "    </tr>\n",
       "    <tr>\n",
       "      <th>4</th>\n",
       "      <td>100830</td>\n",
       "      <td>Auburn University at Montgomery</td>\n",
       "      <td>Montgomery</td>\n",
       "      <td>Alabama</td>\n",
       "    </tr>\n",
       "  </tbody>\n",
       "</table>\n",
       "</div>"
      ],
      "text/plain": [
       "  ipeds_id                          college      county    state\n",
       "0   100654           Alabama A&M University     Madison  Alabama\n",
       "1   100724         Alabama State University  Montgomery  Alabama\n",
       "2   100812          Athens State University   Limestone  Alabama\n",
       "3   100858                Auburn University         Lee  Alabama\n",
       "4   100830  Auburn University at Montgomery  Montgomery  Alabama"
      ]
     },
     "execution_count": 5,
     "metadata": {},
     "output_type": "execute_result"
    }
   ],
   "source": [
    "df_dim = df[dim_cols]\n",
    "df_dim.head()"
   ]
  },
  {
   "cell_type": "code",
   "execution_count": 43,
   "metadata": {},
   "outputs": [
    {
     "data": {
      "text/plain": [
       "int"
      ]
     },
     "execution_count": 43,
     "metadata": {},
     "output_type": "execute_result"
    }
   ],
   "source": [
    "df_fact = df[fact_cols]\n",
    "type(df_fact['cases'].to_list()[108])"
   ]
  },
  {
   "attachments": {},
   "cell_type": "markdown",
   "metadata": {},
   "source": [
    "SQL Commands"
   ]
  },
  {
   "cell_type": "code",
   "execution_count": 48,
   "metadata": {},
   "outputs": [],
   "source": [
    "dim_create = '''\n",
    "CREATE TABLE IF NOT EXISTS Dim_college_info(\n",
    "    ipeds_id varchar,\n",
    "    college varchar,\n",
    "    county varchar,\n",
    "    state  varchar\n",
    ");'''\n",
    "\n",
    "fact_create = ''' \n",
    "CREATE TABLE IF NOT EXISTS fact_covid_cases(\n",
    "    case_id serial,\n",
    "    ipeds_id varchar,\n",
    "    cases integer,\n",
    "    cases_2021 float\n",
    ");'''\n",
    "\n",
    "\n",
    "dim_insert = ''' \n",
    "    INSERT INTO Dim_college_info(\n",
    "        ipeds_id, \n",
    "        college, \n",
    "        county,\n",
    "        state)\n",
    "\n",
    "    VALUES (\n",
    "        %s, %s, %s, %s);\n",
    "    '''\n",
    "\n",
    "fact_insert = ''' \n",
    "    INSERT INTO fact_covid_cases(\n",
    "    ipeds_id,\n",
    "    cases,\n",
    "    cases_2021)\n",
    "\n",
    "    VALUES (\n",
    "        %s, %s, %s);\n",
    "    '''"
   ]
  },
  {
   "attachments": {},
   "cell_type": "markdown",
   "metadata": {},
   "source": [
    "Connect To database and create cursor"
   ]
  },
  {
   "cell_type": "code",
   "execution_count": 9,
   "metadata": {},
   "outputs": [
    {
     "name": "stdout",
     "output_type": "stream",
     "text": [
      "Connected Successfully\n"
     ]
    }
   ],
   "source": [
    "try: \n",
    "    conn = psycopg2.connect(\"host=127.0.0.1 port=5433 dbname=covid_warehouse user=postgres password=testing321\")\n",
    "    print(\"Connected Successfully\")\n",
    "except psycopg2.Error as e: \n",
    "    print(\"Error: Could not make connection to the Postgres database\")\n",
    "    print(e)"
   ]
  },
  {
   "cell_type": "code",
   "execution_count": 11,
   "metadata": {},
   "outputs": [
    {
     "name": "stdout",
     "output_type": "stream",
     "text": [
      "Cursor Created\n"
     ]
    }
   ],
   "source": [
    "try:\n",
    "    cur = conn.cursor()\n",
    "    print(\"Cursor Created\")\n",
    "except psycopg2.Error as e:\n",
    "    print(\"NO Cursor created\")\n",
    "    print(e)"
   ]
  },
  {
   "attachments": {},
   "cell_type": "markdown",
   "metadata": {},
   "source": [
    "Execute the queries"
   ]
  },
  {
   "cell_type": "code",
   "execution_count": 44,
   "metadata": {},
   "outputs": [],
   "source": [
    "try:\n",
    "    cur.execute(dim_create)\n",
    "    cur.execute(fact_create)\n",
    "except psycopg2.Error as e:\n",
    "    print(\"Error while creating table\")\n",
    "    print(e)"
   ]
  },
  {
   "cell_type": "code",
   "execution_count": 45,
   "metadata": {},
   "outputs": [
    {
     "name": "stdout",
     "output_type": "stream",
     "text": [
      "Successfully created tables\n"
     ]
    }
   ],
   "source": [
    "conn.commit()\n",
    "print(\"Successfully created tables\")"
   ]
  },
  {
   "cell_type": "code",
   "execution_count": 52,
   "metadata": {},
   "outputs": [],
   "source": [
    "## Function to Insert data from Dataframe\n",
    "\n",
    "def insert_from_df(data_frame, sql_command):\n",
    "    try: \n",
    "        for i, row in data_frame.iterrows():\n",
    "            cur.execute(sql_command, list(row))\n",
    "        print(\"Successfully Inserted data\")\n",
    "    except psycopg2.Error as e:\n",
    "        print(\"Could Not Insert Data\")\n",
    "        print(e)\n",
    "\n",
    "        "
   ]
  },
  {
   "attachments": {},
   "cell_type": "markdown",
   "metadata": {},
   "source": [
    "Insert Data"
   ]
  }
 ],
 "metadata": {
  "kernelspec": {
   "display_name": "Python 3",
   "language": "python",
   "name": "python3"
  },
  "language_info": {
   "codemirror_mode": {
    "name": "ipython",
    "version": 3
   },
   "file_extension": ".py",
   "mimetype": "text/x-python",
   "name": "python",
   "nbconvert_exporter": "python",
   "pygments_lexer": "ipython3",
   "version": "3.10.6"
  },
  "orig_nbformat": 4,
  "vscode": {
   "interpreter": {
    "hash": "916dbcbb3f70747c44a77c7bcd40155683ae19c65e1c03b4aa3499c5328201f1"
   }
  }
 },
 "nbformat": 4,
 "nbformat_minor": 2
}
